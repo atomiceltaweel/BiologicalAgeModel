{
  "nbformat": 4,
  "nbformat_minor": 0,
  "metadata": {
    "colab": {
      "name": "PCA.ipynb",
      "provenance": [],
      "mount_file_id": "1VoBB_6r5RPNjO3Rsr3NHJl4I8Igl83mz",
      "authorship_tag": "ABX9TyMnmgvLg2HMXtkx+xl9MChd",
      "include_colab_link": true
    },
    "kernelspec": {
      "name": "python3",
      "display_name": "Python 3"
    },
    "language_info": {
      "name": "python"
    }
  },
  "cells": [
    {
      "cell_type": "markdown",
      "metadata": {
        "id": "view-in-github",
        "colab_type": "text"
      },
      "source": [
        "<a href=\"https://colab.research.google.com/github/gbickenbach/BiologicalAgeModel/blob/main/PCA.ipynb\" target=\"_parent\"><img src=\"https://colab.research.google.com/assets/colab-badge.svg\" alt=\"Open In Colab\"/></a>"
      ]
    },
    {
      "cell_type": "code",
      "metadata": {
        "id": "KHbak5FiKh5B"
      },
      "source": [
        "import numpy as np\n",
        "import pandas as pd\n",
        "import matplotlib.pyplot as plt"
      ],
      "execution_count": 1,
      "outputs": []
    },
    {
      "cell_type": "code",
      "metadata": {
        "id": "3vpNeHrVLUHi"
      },
      "source": [
        "data = pd.read_csv(\"drive/MyDrive/Lab/Model and Analysis/Data/OfficialMetadata.csv\")\n",
        "ba = pd.read_csv(\"drive/MyDrive/Lab/Model and Analysis/Data/OfficialBiologicalAge.csv\")"
      ],
      "execution_count": 2,
      "outputs": []
    },
    {
      "cell_type": "code",
      "metadata": {
        "id": "3gnuR5azMDUV"
      },
      "source": [
        "data = data.drop(columns = 'Unnamed: 0')\n",
        "data = data.drop(columns = '0')"
      ],
      "execution_count": 3,
      "outputs": []
    },
    {
      "cell_type": "code",
      "metadata": {
        "id": "K6vVvsf3MkFA"
      },
      "source": [
        "from sklearn.preprocessing import StandardScaler\n",
        "\n",
        "scaler = StandardScaler()\n",
        "scaler.fit(data)\n",
        "\n",
        "normalized = scaler.transform(data)"
      ],
      "execution_count": 4,
      "outputs": []
    },
    {
      "cell_type": "code",
      "metadata": {
        "id": "GZKd0PiiMr7R"
      },
      "source": [
        "from sklearn.decomposition import PCA"
      ],
      "execution_count": 5,
      "outputs": []
    },
    {
      "cell_type": "code",
      "metadata": {
        "id": "4q8Ysx92MuPW"
      },
      "source": [
        "pca=PCA(n_components=7)"
      ],
      "execution_count": 6,
      "outputs": []
    },
    {
      "cell_type": "code",
      "metadata": {
        "id": "n6zqflSiMwpe"
      },
      "source": [
        "pca.fit(normalized)"
      ],
      "execution_count": null,
      "outputs": []
    },
    {
      "cell_type": "code",
      "metadata": {
        "id": "bFiU1k9AMyKt"
      },
      "source": [
        "pcadata = pca.transform(normalized)"
      ],
      "execution_count": 8,
      "outputs": []
    },
    {
      "cell_type": "code",
      "metadata": {
        "colab": {
          "base_uri": "https://localhost:8080/",
          "height": 408
        },
        "id": "SWsjJmvDNAzA",
        "outputId": "f681c38d-2d6a-408e-96ae-7f6842de2308"
      },
      "source": [
        "\n",
        "plt.figure(figsize=(8,6))\n",
        "plt.scatter(component,ba)\n",
        "plt.xlabel(\"Principal Component\")\n",
        "plt.ylabel(\"Adjusted Age\")\n"
      ],
      "execution_count": 18,
      "outputs": [
        {
          "output_type": "execute_result",
          "data": {
            "text/plain": [
              "Text(0, 0.5, 'Adjusted Age')"
            ]
          },
          "metadata": {
            "tags": []
          },
          "execution_count": 18
        },
        {
          "output_type": "display_data",
          "data": {
            "image/png": "[encoded data removed]",
            "text/plain": [
              "<Figure size 576x432 with 1 Axes>"
            ]
          },
          "metadata": {
            "tags": [],
            "needs_background": "light"
          }
        }
      ]
    },
    {
      "cell_type": "code",
      "metadata": {
        "id": "vbOOSFh3N5Za"
      },
      "source": [
        "component = pcadata[:,5]"
      ],
      "execution_count": 17,
      "outputs": []
    },
    {
      "cell_type": "code",
      "metadata": {
        "id": "YiFHK86ROCpk"
      },
      "source": [
        "component = pd.DataFrame(component)"
      ],
      "execution_count": 19,
      "outputs": []
    },
    {
      "cell_type": "code",
      "metadata": {
        "id": "G1_FeUp0OJts"
      },
      "source": [
        "component.to_csv(\"drive/MyDrive/Lab/Model and Analysis/Data/OfficialPrincipalComponent5.csv\")"
      ],
      "execution_count": 20,
      "outputs": []
    }
  ]
}