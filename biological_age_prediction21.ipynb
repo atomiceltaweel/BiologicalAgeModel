{
  "nbformat": 4,
  "nbformat_minor": 0,
  "metadata": {
    "kernelspec": {
      "display_name": "Python 3",
      "language": "python",
      "name": "python3"
    },
    "language_info": {
      "codemirror_mode": {
        "name": "ipython",
        "version": 3
      },
      "file_extension": ".py",
      "mimetype": "text/x-python",
      "name": "python",
      "nbconvert_exporter": "python",
      "pygments_lexer": "ipython3",
      "version": "3.8.3"
    },
    "colab": {
      "provenance": [],
      "include_colab_link": true
    }
  },
  "cells": [
    {
      "cell_type": "markdown",
      "metadata": {
        "id": "view-in-github",
        "colab_type": "text"
      },
      "source": [
        "<a href=\"https://colab.research.google.com/github/atomiceltaweel/BiologicalAgeModel/blob/main/biological_age_prediction21.ipynb\" target=\"_parent\"><img src=\"https://colab.research.google.com/assets/colab-badge.svg\" alt=\"Open In Colab\"/></a>"
      ]
    },
    {
      "cell_type": "code",
      "source": [
        "git clone https://github.com/Anam-Mahmood/predict-insurance-charges-with-autoai.git\n",
        "\n"
      ],
      "metadata": {
        "id": "uAccneHVZ720",
        "outputId": "ff83bc5b-23d9-41b4-e9cc-c0fc8d936082",
        "colab": {
          "base_uri": "https://localhost:8080/",
          "height": 135
        }
      },
      "execution_count": null,
      "outputs": [
        {
          "output_type": "error",
          "ename": "SyntaxError",
          "evalue": "ignored",
          "traceback": [
            "\u001b[0;36m  File \u001b[0;32m\"<ipython-input-1-37b511811f6e>\"\u001b[0;36m, line \u001b[0;32m1\u001b[0m\n\u001b[0;31m    git clone https://github.com/Anam-Mahmood/predict-insurance-charges-with-autoai.git\u001b[0m\n\u001b[0m            ^\u001b[0m\n\u001b[0;31mSyntaxError\u001b[0m\u001b[0;31m:\u001b[0m invalid syntax\n"
          ]
        }
      ]
    },
    {
      "cell_type": "code",
      "metadata": {
        "id": "RyjBv6ZEdjDN"
      },
      "source": [
        "import numpy as np\n",
        "import pandas as pd\n",
        "import matplotlib.pyplot as plt\n",
        "import seaborn as sns #statstical data visualization\n",
        "\n",
        "%matplotlib inline"
      ],
      "execution_count": 101,
      "outputs": []
    },
    {
      "cell_type": "code",
      "metadata": {
        "id": "jCf6SZ7adjDR"
      },
      "source": [
        "df = pd.read_csv(\"/content/final.csv\" , encoding= 'unicode_escape')\n"
      ],
      "execution_count": 102,
      "outputs": []
    },
    {
      "cell_type": "code",
      "metadata": {
        "id": "6coDpS9SdjDS",
        "colab": {
          "base_uri": "https://localhost:8080/",
          "height": 165
        },
        "outputId": "ec509030-93eb-4aa1-8136-889d41cceecb"
      },
      "source": [
        "insurance_dataset = load_df()"
      ],
      "execution_count": 103,
      "outputs": [
        {
          "output_type": "error",
          "ename": "NameError",
          "evalue": "ignored",
          "traceback": [
            "\u001b[0;31m---------------------------------------------------------------------------\u001b[0m",
            "\u001b[0;31mNameError\u001b[0m                                 Traceback (most recent call last)",
            "\u001b[0;32m<ipython-input-103-2d0381c9de91>\u001b[0m in \u001b[0;36m<module>\u001b[0;34m\u001b[0m\n\u001b[0;32m----> 1\u001b[0;31m \u001b[0minsurance_dataset\u001b[0m \u001b[0;34m=\u001b[0m \u001b[0mload_df\u001b[0m\u001b[0;34m(\u001b[0m\u001b[0;34m)\u001b[0m\u001b[0;34m\u001b[0m\u001b[0;34m\u001b[0m\u001b[0m\n\u001b[0m",
            "\u001b[0;31mNameError\u001b[0m: name 'load_df' is not defined"
          ]
        }
      ]
    },
    {
      "cell_type": "code",
      "metadata": {
        "colab": {
          "base_uri": "https://localhost:8080/",
          "height": 612
        },
        "id": "lJwD0Pi3djDT",
        "outputId": "6988600d-3f94-45c4-822a-78bb26db16ec"
      },
      "source": [
        "print(df)\n",
        "df.head(3)"
      ],
      "execution_count": 104,
      "outputs": [
        {
          "output_type": "stream",
          "name": "stdout",
          "text": [
            "       PAXMTSDÿ  PAXAISMD   PAXWWMDÿ  age  age abon death  \\\n",
            "0       137.543    3495102         3   80       81.833333   \n",
            "1      2107.758     697416       292   80       81.833333   \n",
            "2      7684.059    3224567       861   80       81.833333   \n",
            "3      9295.438    2933351       896   80       81.833333   \n",
            "4      7011.951    3337775       805   80       81.833333   \n",
            "...         ...        ...       ...  ...             ...   \n",
            "4528  11760.299    2788493       896   60       66.416667   \n",
            "4529  12651.679    2333865       994   60       66.416667   \n",
            "4530  12908.540    2533140       961   60       66.416667   \n",
            "4531  14445.137    2265426      1042   60       66.416667   \n",
            "4532  13951.935    2230705      1009   60       66.416667   \n",
            "\n",
            "      Expectation of life  m_lived_after  actual life       diff  \n",
            "0                9.076737             22     1.833333   7.243404  \n",
            "1                9.076737             22     1.833333   7.243404  \n",
            "2                9.076737             22     1.833333   7.243404  \n",
            "3                9.076737             22     1.833333   7.243404  \n",
            "4                9.076737             22     1.833333   7.243404  \n",
            "...                   ...            ...          ...        ...  \n",
            "4528            23.120760             77     6.416667  16.704093  \n",
            "4529            23.120760             77     6.416667  16.704093  \n",
            "4530            23.120760             77     6.416667  16.704093  \n",
            "4531            23.120760             77     6.416667  16.704093  \n",
            "4532            23.120760             77     6.416667  16.704093  \n",
            "\n",
            "[4533 rows x 9 columns]\n"
          ]
        },
        {
          "output_type": "execute_result",
          "data": {
            "text/plain": [
              "   PAXMTSDÿ  PAXAISMD   PAXWWMDÿ  age  age abon death  Expectation of life  \\\n",
              "0   137.543    3495102         3   80       81.833333             9.076737   \n",
              "1  2107.758     697416       292   80       81.833333             9.076737   \n",
              "2  7684.059    3224567       861   80       81.833333             9.076737   \n",
              "\n",
              "   m_lived_after  actual life      diff  \n",
              "0             22     1.833333  7.243404  \n",
              "1             22     1.833333  7.243404  \n",
              "2             22     1.833333  7.243404  "
            ],
            "text/html": [
              "\n",
              "  <div id=\"df-e118b467-6d2d-4214-b65c-fd45b64b9b81\">\n",
              "    <div class=\"colab-df-container\">\n",
              "      <div>\n",
              "<style scoped>\n",
              "    .dataframe tbody tr th:only-of-type {\n",
              "        vertical-align: middle;\n",
              "    }\n",
              "\n",
              "    .dataframe tbody tr th {\n",
              "        vertical-align: top;\n",
              "    }\n",
              "\n",
              "    .dataframe thead th {\n",
              "        text-align: right;\n",
              "    }\n",
              "</style>\n",
              "<table border=\"1\" class=\"dataframe\">\n",
              "  <thead>\n",
              "    <tr style=\"text-align: right;\">\n",
              "      <th></th>\n",
              "      <th>PAXMTSDÿ</th>\n",
              "      <th>PAXAISMD</th>\n",
              "      <th>PAXWWMDÿ</th>\n",
              "      <th>age</th>\n",
              "      <th>age abon death</th>\n",
              "      <th>Expectation of life</th>\n",
              "      <th>m_lived_after</th>\n",
              "      <th>actual life</th>\n",
              "      <th>diff</th>\n",
              "    </tr>\n",
              "  </thead>\n",
              "  <tbody>\n",
              "    <tr>\n",
              "      <th>0</th>\n",
              "      <td>137.543</td>\n",
              "      <td>3495102</td>\n",
              "      <td>3</td>\n",
              "      <td>80</td>\n",
              "      <td>81.833333</td>\n",
              "      <td>9.076737</td>\n",
              "      <td>22</td>\n",
              "      <td>1.833333</td>\n",
              "      <td>7.243404</td>\n",
              "    </tr>\n",
              "    <tr>\n",
              "      <th>1</th>\n",
              "      <td>2107.758</td>\n",
              "      <td>697416</td>\n",
              "      <td>292</td>\n",
              "      <td>80</td>\n",
              "      <td>81.833333</td>\n",
              "      <td>9.076737</td>\n",
              "      <td>22</td>\n",
              "      <td>1.833333</td>\n",
              "      <td>7.243404</td>\n",
              "    </tr>\n",
              "    <tr>\n",
              "      <th>2</th>\n",
              "      <td>7684.059</td>\n",
              "      <td>3224567</td>\n",
              "      <td>861</td>\n",
              "      <td>80</td>\n",
              "      <td>81.833333</td>\n",
              "      <td>9.076737</td>\n",
              "      <td>22</td>\n",
              "      <td>1.833333</td>\n",
              "      <td>7.243404</td>\n",
              "    </tr>\n",
              "  </tbody>\n",
              "</table>\n",
              "</div>\n",
              "      <button class=\"colab-df-convert\" onclick=\"convertToInteractive('df-e118b467-6d2d-4214-b65c-fd45b64b9b81')\"\n",
              "              title=\"Convert this dataframe to an interactive table.\"\n",
              "              style=\"display:none;\">\n",
              "        \n",
              "  <svg xmlns=\"http://www.w3.org/2000/svg\" height=\"24px\"viewBox=\"0 0 24 24\"\n",
              "       width=\"24px\">\n",
              "    <path d=\"M0 0h24v24H0V0z\" fill=\"none\"/>\n",
              "    <path d=\"M18.56 5.44l.94 2.06.94-2.06 2.06-.94-2.06-.94-.94-2.06-.94 2.06-2.06.94zm-11 1L8.5 8.5l.94-2.06 2.06-.94-2.06-.94L8.5 2.5l-.94 2.06-2.06.94zm10 10l.94 2.06.94-2.06 2.06-.94-2.06-.94-.94-2.06-.94 2.06-2.06.94z\"/><path d=\"M17.41 7.96l-1.37-1.37c-.4-.4-.92-.59-1.43-.59-.52 0-1.04.2-1.43.59L10.3 9.45l-7.72 7.72c-.78.78-.78 2.05 0 2.83L4 21.41c.39.39.9.59 1.41.59.51 0 1.02-.2 1.41-.59l7.78-7.78 2.81-2.81c.8-.78.8-2.07 0-2.86zM5.41 20L4 18.59l7.72-7.72 1.47 1.35L5.41 20z\"/>\n",
              "  </svg>\n",
              "      </button>\n",
              "      \n",
              "  <style>\n",
              "    .colab-df-container {\n",
              "      display:flex;\n",
              "      flex-wrap:wrap;\n",
              "      gap: 12px;\n",
              "    }\n",
              "\n",
              "    .colab-df-convert {\n",
              "      background-color: #E8F0FE;\n",
              "      border: none;\n",
              "      border-radius: 50%;\n",
              "      cursor: pointer;\n",
              "      display: none;\n",
              "      fill: #1967D2;\n",
              "      height: 32px;\n",
              "      padding: 0 0 0 0;\n",
              "      width: 32px;\n",
              "    }\n",
              "\n",
              "    .colab-df-convert:hover {\n",
              "      background-color: #E2EBFA;\n",
              "      box-shadow: 0px 1px 2px rgba(60, 64, 67, 0.3), 0px 1px 3px 1px rgba(60, 64, 67, 0.15);\n",
              "      fill: #174EA6;\n",
              "    }\n",
              "\n",
              "    [theme=dark] .colab-df-convert {\n",
              "      background-color: #3B4455;\n",
              "      fill: #D2E3FC;\n",
              "    }\n",
              "\n",
              "    [theme=dark] .colab-df-convert:hover {\n",
              "      background-color: #434B5C;\n",
              "      box-shadow: 0px 1px 3px 1px rgba(0, 0, 0, 0.15);\n",
              "      filter: drop-shadow(0px 1px 2px rgba(0, 0, 0, 0.3));\n",
              "      fill: #FFFFFF;\n",
              "    }\n",
              "  </style>\n",
              "\n",
              "      <script>\n",
              "        const buttonEl =\n",
              "          document.querySelector('#df-e118b467-6d2d-4214-b65c-fd45b64b9b81 button.colab-df-convert');\n",
              "        buttonEl.style.display =\n",
              "          google.colab.kernel.accessAllowed ? 'block' : 'none';\n",
              "\n",
              "        async function convertToInteractive(key) {\n",
              "          const element = document.querySelector('#df-e118b467-6d2d-4214-b65c-fd45b64b9b81');\n",
              "          const dataTable =\n",
              "            await google.colab.kernel.invokeFunction('convertToInteractive',\n",
              "                                                     [key], {});\n",
              "          if (!dataTable) return;\n",
              "\n",
              "          const docLinkHtml = 'Like what you see? Visit the ' +\n",
              "            '<a target=\"_blank\" href=https://colab.research.google.com/notebooks/data_table.ipynb>data table notebook</a>'\n",
              "            + ' to learn more about interactive tables.';\n",
              "          element.innerHTML = '';\n",
              "          dataTable['output_type'] = 'display_data';\n",
              "          await google.colab.output.renderOutput(dataTable, element);\n",
              "          const docLink = document.createElement('div');\n",
              "          docLink.innerHTML = docLinkHtml;\n",
              "          element.appendChild(docLink);\n",
              "        }\n",
              "      </script>\n",
              "    </div>\n",
              "  </div>\n",
              "  "
            ]
          },
          "metadata": {},
          "execution_count": 104
        }
      ]
    },
    {
      "cell_type": "code",
      "metadata": {
        "colab": {
          "base_uri": "https://localhost:8080/"
        },
        "id": "Kz7DyxdndjDU",
        "outputId": "b597eb3f-0d12-43df-8704-c73c70c3fb82"
      },
      "source": [
        "df.keys()"
      ],
      "execution_count": 105,
      "outputs": [
        {
          "output_type": "execute_result",
          "data": {
            "text/plain": [
              "Index(['PAXMTSDÿ', 'PAXAISMD ', 'PAXWWMDÿ', 'age', 'age abon death',\n",
              "       'Expectation of life', 'm_lived_after', 'actual life', 'diff'],\n",
              "      dtype='object')"
            ]
          },
          "metadata": {},
          "execution_count": 105
        }
      ]
    },
    {
      "cell_type": "code",
      "metadata": {
        "id": "WOgbukkjdjDV",
        "colab": {
          "base_uri": "https://localhost:8080/",
          "height": 287
        },
        "outputId": "41721774-a1a5-49e7-fb88-bcfc3eab389c"
      },
      "source": [
        "y = df.target\n"
      ],
      "execution_count": 106,
      "outputs": [
        {
          "output_type": "error",
          "ename": "AttributeError",
          "evalue": "ignored",
          "traceback": [
            "\u001b[0;31m---------------------------------------------------------------------------\u001b[0m",
            "\u001b[0;31mAttributeError\u001b[0m                            Traceback (most recent call last)",
            "\u001b[0;32m<ipython-input-106-5012c47f40e6>\u001b[0m in \u001b[0;36m<module>\u001b[0;34m\u001b[0m\n\u001b[0;32m----> 1\u001b[0;31m \u001b[0my\u001b[0m \u001b[0;34m=\u001b[0m \u001b[0mdf\u001b[0m\u001b[0;34m.\u001b[0m\u001b[0mtarget\u001b[0m\u001b[0;34m\u001b[0m\u001b[0;34m\u001b[0m\u001b[0m\n\u001b[0m",
            "\u001b[0;32m/usr/local/lib/python3.7/dist-packages/pandas/core/generic.py\u001b[0m in \u001b[0;36m__getattr__\u001b[0;34m(self, name)\u001b[0m\n\u001b[1;32m   5485\u001b[0m         ):\n\u001b[1;32m   5486\u001b[0m             \u001b[0;32mreturn\u001b[0m \u001b[0mself\u001b[0m\u001b[0;34m[\u001b[0m\u001b[0mname\u001b[0m\u001b[0;34m]\u001b[0m\u001b[0;34m\u001b[0m\u001b[0;34m\u001b[0m\u001b[0m\n\u001b[0;32m-> 5487\u001b[0;31m         \u001b[0;32mreturn\u001b[0m \u001b[0mobject\u001b[0m\u001b[0;34m.\u001b[0m\u001b[0m__getattribute__\u001b[0m\u001b[0;34m(\u001b[0m\u001b[0mself\u001b[0m\u001b[0;34m,\u001b[0m \u001b[0mname\u001b[0m\u001b[0;34m)\u001b[0m\u001b[0;34m\u001b[0m\u001b[0;34m\u001b[0m\u001b[0m\n\u001b[0m\u001b[1;32m   5488\u001b[0m \u001b[0;34m\u001b[0m\u001b[0m\n\u001b[1;32m   5489\u001b[0m     \u001b[0;32mdef\u001b[0m \u001b[0m__setattr__\u001b[0m\u001b[0;34m(\u001b[0m\u001b[0mself\u001b[0m\u001b[0;34m,\u001b[0m \u001b[0mname\u001b[0m\u001b[0;34m:\u001b[0m \u001b[0mstr\u001b[0m\u001b[0;34m,\u001b[0m \u001b[0mvalue\u001b[0m\u001b[0;34m)\u001b[0m \u001b[0;34m->\u001b[0m \u001b[0;32mNone\u001b[0m\u001b[0;34m:\u001b[0m\u001b[0;34m\u001b[0m\u001b[0;34m\u001b[0m\u001b[0m\n",
            "\u001b[0;31mAttributeError\u001b[0m: 'DataFrame' object has no attribute 'target'"
          ]
        }
      ]
    },
    {
      "cell_type": "code",
      "metadata": {
        "colab": {
          "base_uri": "https://localhost:8080/",
          "height": 206
        },
        "id": "pOyVw5MrdjDW",
        "outputId": "f9f17d6e-09e5-48d1-843a-282ddba4fdee"
      },
      "source": [
        "df.head()"
      ],
      "execution_count": 107,
      "outputs": [
        {
          "output_type": "execute_result",
          "data": {
            "text/plain": [
              "   PAXMTSDÿ  PAXAISMD   PAXWWMDÿ  age  age abon death  Expectation of life  \\\n",
              "0   137.543    3495102         3   80       81.833333             9.076737   \n",
              "1  2107.758     697416       292   80       81.833333             9.076737   \n",
              "2  7684.059    3224567       861   80       81.833333             9.076737   \n",
              "3  9295.438    2933351       896   80       81.833333             9.076737   \n",
              "4  7011.951    3337775       805   80       81.833333             9.076737   \n",
              "\n",
              "   m_lived_after  actual life      diff  \n",
              "0             22     1.833333  7.243404  \n",
              "1             22     1.833333  7.243404  \n",
              "2             22     1.833333  7.243404  \n",
              "3             22     1.833333  7.243404  \n",
              "4             22     1.833333  7.243404  "
            ],
            "text/html": [
              "\n",
              "  <div id=\"df-dfdb587d-1522-4e8a-89c2-64a1cf39ff09\">\n",
              "    <div class=\"colab-df-container\">\n",
              "      <div>\n",
              "<style scoped>\n",
              "    .dataframe tbody tr th:only-of-type {\n",
              "        vertical-align: middle;\n",
              "    }\n",
              "\n",
              "    .dataframe tbody tr th {\n",
              "        vertical-align: top;\n",
              "    }\n",
              "\n",
              "    .dataframe thead th {\n",
              "        text-align: right;\n",
              "    }\n",
              "</style>\n",
              "<table border=\"1\" class=\"dataframe\">\n",
              "  <thead>\n",
              "    <tr style=\"text-align: right;\">\n",
              "      <th></th>\n",
              "      <th>PAXMTSDÿ</th>\n",
              "      <th>PAXAISMD</th>\n",
              "      <th>PAXWWMDÿ</th>\n",
              "      <th>age</th>\n",
              "      <th>age abon death</th>\n",
              "      <th>Expectation of life</th>\n",
              "      <th>m_lived_after</th>\n",
              "      <th>actual life</th>\n",
              "      <th>diff</th>\n",
              "    </tr>\n",
              "  </thead>\n",
              "  <tbody>\n",
              "    <tr>\n",
              "      <th>0</th>\n",
              "      <td>137.543</td>\n",
              "      <td>3495102</td>\n",
              "      <td>3</td>\n",
              "      <td>80</td>\n",
              "      <td>81.833333</td>\n",
              "      <td>9.076737</td>\n",
              "      <td>22</td>\n",
              "      <td>1.833333</td>\n",
              "      <td>7.243404</td>\n",
              "    </tr>\n",
              "    <tr>\n",
              "      <th>1</th>\n",
              "      <td>2107.758</td>\n",
              "      <td>697416</td>\n",
              "      <td>292</td>\n",
              "      <td>80</td>\n",
              "      <td>81.833333</td>\n",
              "      <td>9.076737</td>\n",
              "      <td>22</td>\n",
              "      <td>1.833333</td>\n",
              "      <td>7.243404</td>\n",
              "    </tr>\n",
              "    <tr>\n",
              "      <th>2</th>\n",
              "      <td>7684.059</td>\n",
              "      <td>3224567</td>\n",
              "      <td>861</td>\n",
              "      <td>80</td>\n",
              "      <td>81.833333</td>\n",
              "      <td>9.076737</td>\n",
              "      <td>22</td>\n",
              "      <td>1.833333</td>\n",
              "      <td>7.243404</td>\n",
              "    </tr>\n",
              "    <tr>\n",
              "      <th>3</th>\n",
              "      <td>9295.438</td>\n",
              "      <td>2933351</td>\n",
              "      <td>896</td>\n",
              "      <td>80</td>\n",
              "      <td>81.833333</td>\n",
              "      <td>9.076737</td>\n",
              "      <td>22</td>\n",
              "      <td>1.833333</td>\n",
              "      <td>7.243404</td>\n",
              "    </tr>\n",
              "    <tr>\n",
              "      <th>4</th>\n",
              "      <td>7011.951</td>\n",
              "      <td>3337775</td>\n",
              "      <td>805</td>\n",
              "      <td>80</td>\n",
              "      <td>81.833333</td>\n",
              "      <td>9.076737</td>\n",
              "      <td>22</td>\n",
              "      <td>1.833333</td>\n",
              "      <td>7.243404</td>\n",
              "    </tr>\n",
              "  </tbody>\n",
              "</table>\n",
              "</div>\n",
              "      <button class=\"colab-df-convert\" onclick=\"convertToInteractive('df-dfdb587d-1522-4e8a-89c2-64a1cf39ff09')\"\n",
              "              title=\"Convert this dataframe to an interactive table.\"\n",
              "              style=\"display:none;\">\n",
              "        \n",
              "  <svg xmlns=\"http://www.w3.org/2000/svg\" height=\"24px\"viewBox=\"0 0 24 24\"\n",
              "       width=\"24px\">\n",
              "    <path d=\"M0 0h24v24H0V0z\" fill=\"none\"/>\n",
              "    <path d=\"M18.56 5.44l.94 2.06.94-2.06 2.06-.94-2.06-.94-.94-2.06-.94 2.06-2.06.94zm-11 1L8.5 8.5l.94-2.06 2.06-.94-2.06-.94L8.5 2.5l-.94 2.06-2.06.94zm10 10l.94 2.06.94-2.06 2.06-.94-2.06-.94-.94-2.06-.94 2.06-2.06.94z\"/><path d=\"M17.41 7.96l-1.37-1.37c-.4-.4-.92-.59-1.43-.59-.52 0-1.04.2-1.43.59L10.3 9.45l-7.72 7.72c-.78.78-.78 2.05 0 2.83L4 21.41c.39.39.9.59 1.41.59.51 0 1.02-.2 1.41-.59l7.78-7.78 2.81-2.81c.8-.78.8-2.07 0-2.86zM5.41 20L4 18.59l7.72-7.72 1.47 1.35L5.41 20z\"/>\n",
              "  </svg>\n",
              "      </button>\n",
              "      \n",
              "  <style>\n",
              "    .colab-df-container {\n",
              "      display:flex;\n",
              "      flex-wrap:wrap;\n",
              "      gap: 12px;\n",
              "    }\n",
              "\n",
              "    .colab-df-convert {\n",
              "      background-color: #E8F0FE;\n",
              "      border: none;\n",
              "      border-radius: 50%;\n",
              "      cursor: pointer;\n",
              "      display: none;\n",
              "      fill: #1967D2;\n",
              "      height: 32px;\n",
              "      padding: 0 0 0 0;\n",
              "      width: 32px;\n",
              "    }\n",
              "\n",
              "    .colab-df-convert:hover {\n",
              "      background-color: #E2EBFA;\n",
              "      box-shadow: 0px 1px 2px rgba(60, 64, 67, 0.3), 0px 1px 3px 1px rgba(60, 64, 67, 0.15);\n",
              "      fill: #174EA6;\n",
              "    }\n",
              "\n",
              "    [theme=dark] .colab-df-convert {\n",
              "      background-color: #3B4455;\n",
              "      fill: #D2E3FC;\n",
              "    }\n",
              "\n",
              "    [theme=dark] .colab-df-convert:hover {\n",
              "      background-color: #434B5C;\n",
              "      box-shadow: 0px 1px 3px 1px rgba(0, 0, 0, 0.15);\n",
              "      filter: drop-shadow(0px 1px 2px rgba(0, 0, 0, 0.3));\n",
              "      fill: #FFFFFF;\n",
              "    }\n",
              "  </style>\n",
              "\n",
              "      <script>\n",
              "        const buttonEl =\n",
              "          document.querySelector('#df-dfdb587d-1522-4e8a-89c2-64a1cf39ff09 button.colab-df-convert');\n",
              "        buttonEl.style.display =\n",
              "          google.colab.kernel.accessAllowed ? 'block' : 'none';\n",
              "\n",
              "        async function convertToInteractive(key) {\n",
              "          const element = document.querySelector('#df-dfdb587d-1522-4e8a-89c2-64a1cf39ff09');\n",
              "          const dataTable =\n",
              "            await google.colab.kernel.invokeFunction('convertToInteractive',\n",
              "                                                     [key], {});\n",
              "          if (!dataTable) return;\n",
              "\n",
              "          const docLinkHtml = 'Like what you see? Visit the ' +\n",
              "            '<a target=\"_blank\" href=https://colab.research.google.com/notebooks/data_table.ipynb>data table notebook</a>'\n",
              "            + ' to learn more about interactive tables.';\n",
              "          element.innerHTML = '';\n",
              "          dataTable['output_type'] = 'display_data';\n",
              "          await google.colab.output.renderOutput(dataTable, element);\n",
              "          const docLink = document.createElement('div');\n",
              "          docLink.innerHTML = docLinkHtml;\n",
              "          element.appendChild(docLink);\n",
              "        }\n",
              "      </script>\n",
              "    </div>\n",
              "  </div>\n",
              "  "
            ]
          },
          "metadata": {},
          "execution_count": 107
        }
      ]
    },
    {
      "cell_type": "code",
      "metadata": {
        "id": "LXES2TttdjDX",
        "colab": {
          "base_uri": "https://localhost:8080/",
          "height": 287
        },
        "outputId": "f16ca214-f2d2-4913-d2a9-3804fed7ebe5"
      },
      "source": [
        "df['age abon death'] = df.target"
      ],
      "execution_count": 108,
      "outputs": [
        {
          "output_type": "error",
          "ename": "AttributeError",
          "evalue": "ignored",
          "traceback": [
            "\u001b[0;31m---------------------------------------------------------------------------\u001b[0m",
            "\u001b[0;31mAttributeError\u001b[0m                            Traceback (most recent call last)",
            "\u001b[0;32m<ipython-input-108-2c9026c91274>\u001b[0m in \u001b[0;36m<module>\u001b[0;34m\u001b[0m\n\u001b[0;32m----> 1\u001b[0;31m \u001b[0mdf\u001b[0m\u001b[0;34m[\u001b[0m\u001b[0;34m'age abon death'\u001b[0m\u001b[0;34m]\u001b[0m \u001b[0;34m=\u001b[0m \u001b[0mdf\u001b[0m\u001b[0;34m.\u001b[0m\u001b[0mtarget\u001b[0m\u001b[0;34m\u001b[0m\u001b[0;34m\u001b[0m\u001b[0m\n\u001b[0m",
            "\u001b[0;32m/usr/local/lib/python3.7/dist-packages/pandas/core/generic.py\u001b[0m in \u001b[0;36m__getattr__\u001b[0;34m(self, name)\u001b[0m\n\u001b[1;32m   5485\u001b[0m         ):\n\u001b[1;32m   5486\u001b[0m             \u001b[0;32mreturn\u001b[0m \u001b[0mself\u001b[0m\u001b[0;34m[\u001b[0m\u001b[0mname\u001b[0m\u001b[0;34m]\u001b[0m\u001b[0;34m\u001b[0m\u001b[0;34m\u001b[0m\u001b[0m\n\u001b[0;32m-> 5487\u001b[0;31m         \u001b[0;32mreturn\u001b[0m \u001b[0mobject\u001b[0m\u001b[0;34m.\u001b[0m\u001b[0m__getattribute__\u001b[0m\u001b[0;34m(\u001b[0m\u001b[0mself\u001b[0m\u001b[0;34m,\u001b[0m \u001b[0mname\u001b[0m\u001b[0;34m)\u001b[0m\u001b[0;34m\u001b[0m\u001b[0;34m\u001b[0m\u001b[0m\n\u001b[0m\u001b[1;32m   5488\u001b[0m \u001b[0;34m\u001b[0m\u001b[0m\n\u001b[1;32m   5489\u001b[0m     \u001b[0;32mdef\u001b[0m \u001b[0m__setattr__\u001b[0m\u001b[0;34m(\u001b[0m\u001b[0mself\u001b[0m\u001b[0;34m,\u001b[0m \u001b[0mname\u001b[0m\u001b[0;34m:\u001b[0m \u001b[0mstr\u001b[0m\u001b[0;34m,\u001b[0m \u001b[0mvalue\u001b[0m\u001b[0;34m)\u001b[0m \u001b[0;34m->\u001b[0m \u001b[0;32mNone\u001b[0m\u001b[0;34m:\u001b[0m\u001b[0;34m\u001b[0m\u001b[0;34m\u001b[0m\u001b[0m\n",
            "\u001b[0;31mAttributeError\u001b[0m: 'DataFrame' object has no attribute 'target'"
          ]
        }
      ]
    },
    {
      "cell_type": "code",
      "metadata": {
        "colab": {
          "base_uri": "https://localhost:8080/",
          "height": 206
        },
        "id": "FF9uRYIvdjDY",
        "outputId": "ce5229b0-2499-4eed-ce0a-ed1ccd532c0b"
      },
      "source": [
        "df.head()"
      ],
      "execution_count": 109,
      "outputs": [
        {
          "output_type": "execute_result",
          "data": {
            "text/plain": [
              "   PAXMTSDÿ  PAXAISMD   PAXWWMDÿ  age  age abon death  Expectation of life  \\\n",
              "0   137.543    3495102         3   80       81.833333             9.076737   \n",
              "1  2107.758     697416       292   80       81.833333             9.076737   \n",
              "2  7684.059    3224567       861   80       81.833333             9.076737   \n",
              "3  9295.438    2933351       896   80       81.833333             9.076737   \n",
              "4  7011.951    3337775       805   80       81.833333             9.076737   \n",
              "\n",
              "   m_lived_after  actual life      diff  \n",
              "0             22     1.833333  7.243404  \n",
              "1             22     1.833333  7.243404  \n",
              "2             22     1.833333  7.243404  \n",
              "3             22     1.833333  7.243404  \n",
              "4             22     1.833333  7.243404  "
            ],
            "text/html": [
              "\n",
              "  <div id=\"df-a1a53140-e56d-4a0f-a4d0-505e3352a79d\">\n",
              "    <div class=\"colab-df-container\">\n",
              "      <div>\n",
              "<style scoped>\n",
              "    .dataframe tbody tr th:only-of-type {\n",
              "        vertical-align: middle;\n",
              "    }\n",
              "\n",
              "    .dataframe tbody tr th {\n",
              "        vertical-align: top;\n",
              "    }\n",
              "\n",
              "    .dataframe thead th {\n",
              "        text-align: right;\n",
              "    }\n",
              "</style>\n",
              "<table border=\"1\" class=\"dataframe\">\n",
              "  <thead>\n",
              "    <tr style=\"text-align: right;\">\n",
              "      <th></th>\n",
              "      <th>PAXMTSDÿ</th>\n",
              "      <th>PAXAISMD</th>\n",
              "      <th>PAXWWMDÿ</th>\n",
              "      <th>age</th>\n",
              "      <th>age abon death</th>\n",
              "      <th>Expectation of life</th>\n",
              "      <th>m_lived_after</th>\n",
              "      <th>actual life</th>\n",
              "      <th>diff</th>\n",
              "    </tr>\n",
              "  </thead>\n",
              "  <tbody>\n",
              "    <tr>\n",
              "      <th>0</th>\n",
              "      <td>137.543</td>\n",
              "      <td>3495102</td>\n",
              "      <td>3</td>\n",
              "      <td>80</td>\n",
              "      <td>81.833333</td>\n",
              "      <td>9.076737</td>\n",
              "      <td>22</td>\n",
              "      <td>1.833333</td>\n",
              "      <td>7.243404</td>\n",
              "    </tr>\n",
              "    <tr>\n",
              "      <th>1</th>\n",
              "      <td>2107.758</td>\n",
              "      <td>697416</td>\n",
              "      <td>292</td>\n",
              "      <td>80</td>\n",
              "      <td>81.833333</td>\n",
              "      <td>9.076737</td>\n",
              "      <td>22</td>\n",
              "      <td>1.833333</td>\n",
              "      <td>7.243404</td>\n",
              "    </tr>\n",
              "    <tr>\n",
              "      <th>2</th>\n",
              "      <td>7684.059</td>\n",
              "      <td>3224567</td>\n",
              "      <td>861</td>\n",
              "      <td>80</td>\n",
              "      <td>81.833333</td>\n",
              "      <td>9.076737</td>\n",
              "      <td>22</td>\n",
              "      <td>1.833333</td>\n",
              "      <td>7.243404</td>\n",
              "    </tr>\n",
              "    <tr>\n",
              "      <th>3</th>\n",
              "      <td>9295.438</td>\n",
              "      <td>2933351</td>\n",
              "      <td>896</td>\n",
              "      <td>80</td>\n",
              "      <td>81.833333</td>\n",
              "      <td>9.076737</td>\n",
              "      <td>22</td>\n",
              "      <td>1.833333</td>\n",
              "      <td>7.243404</td>\n",
              "    </tr>\n",
              "    <tr>\n",
              "      <th>4</th>\n",
              "      <td>7011.951</td>\n",
              "      <td>3337775</td>\n",
              "      <td>805</td>\n",
              "      <td>80</td>\n",
              "      <td>81.833333</td>\n",
              "      <td>9.076737</td>\n",
              "      <td>22</td>\n",
              "      <td>1.833333</td>\n",
              "      <td>7.243404</td>\n",
              "    </tr>\n",
              "  </tbody>\n",
              "</table>\n",
              "</div>\n",
              "      <button class=\"colab-df-convert\" onclick=\"convertToInteractive('df-a1a53140-e56d-4a0f-a4d0-505e3352a79d')\"\n",
              "              title=\"Convert this dataframe to an interactive table.\"\n",
              "              style=\"display:none;\">\n",
              "        \n",
              "  <svg xmlns=\"http://www.w3.org/2000/svg\" height=\"24px\"viewBox=\"0 0 24 24\"\n",
              "       width=\"24px\">\n",
              "    <path d=\"M0 0h24v24H0V0z\" fill=\"none\"/>\n",
              "    <path d=\"M18.56 5.44l.94 2.06.94-2.06 2.06-.94-2.06-.94-.94-2.06-.94 2.06-2.06.94zm-11 1L8.5 8.5l.94-2.06 2.06-.94-2.06-.94L8.5 2.5l-.94 2.06-2.06.94zm10 10l.94 2.06.94-2.06 2.06-.94-2.06-.94-.94-2.06-.94 2.06-2.06.94z\"/><path d=\"M17.41 7.96l-1.37-1.37c-.4-.4-.92-.59-1.43-.59-.52 0-1.04.2-1.43.59L10.3 9.45l-7.72 7.72c-.78.78-.78 2.05 0 2.83L4 21.41c.39.39.9.59 1.41.59.51 0 1.02-.2 1.41-.59l7.78-7.78 2.81-2.81c.8-.78.8-2.07 0-2.86zM5.41 20L4 18.59l7.72-7.72 1.47 1.35L5.41 20z\"/>\n",
              "  </svg>\n",
              "      </button>\n",
              "      \n",
              "  <style>\n",
              "    .colab-df-container {\n",
              "      display:flex;\n",
              "      flex-wrap:wrap;\n",
              "      gap: 12px;\n",
              "    }\n",
              "\n",
              "    .colab-df-convert {\n",
              "      background-color: #E8F0FE;\n",
              "      border: none;\n",
              "      border-radius: 50%;\n",
              "      cursor: pointer;\n",
              "      display: none;\n",
              "      fill: #1967D2;\n",
              "      height: 32px;\n",
              "      padding: 0 0 0 0;\n",
              "      width: 32px;\n",
              "    }\n",
              "\n",
              "    .colab-df-convert:hover {\n",
              "      background-color: #E2EBFA;\n",
              "      box-shadow: 0px 1px 2px rgba(60, 64, 67, 0.3), 0px 1px 3px 1px rgba(60, 64, 67, 0.15);\n",
              "      fill: #174EA6;\n",
              "    }\n",
              "\n",
              "    [theme=dark] .colab-df-convert {\n",
              "      background-color: #3B4455;\n",
              "      fill: #D2E3FC;\n",
              "    }\n",
              "\n",
              "    [theme=dark] .colab-df-convert:hover {\n",
              "      background-color: #434B5C;\n",
              "      box-shadow: 0px 1px 3px 1px rgba(0, 0, 0, 0.15);\n",
              "      filter: drop-shadow(0px 1px 2px rgba(0, 0, 0, 0.3));\n",
              "      fill: #FFFFFF;\n",
              "    }\n",
              "  </style>\n",
              "\n",
              "      <script>\n",
              "        const buttonEl =\n",
              "          document.querySelector('#df-a1a53140-e56d-4a0f-a4d0-505e3352a79d button.colab-df-convert');\n",
              "        buttonEl.style.display =\n",
              "          google.colab.kernel.accessAllowed ? 'block' : 'none';\n",
              "\n",
              "        async function convertToInteractive(key) {\n",
              "          const element = document.querySelector('#df-a1a53140-e56d-4a0f-a4d0-505e3352a79d');\n",
              "          const dataTable =\n",
              "            await google.colab.kernel.invokeFunction('convertToInteractive',\n",
              "                                                     [key], {});\n",
              "          if (!dataTable) return;\n",
              "\n",
              "          const docLinkHtml = 'Like what you see? Visit the ' +\n",
              "            '<a target=\"_blank\" href=https://colab.research.google.com/notebooks/data_table.ipynb>data table notebook</a>'\n",
              "            + ' to learn more about interactive tables.';\n",
              "          element.innerHTML = '';\n",
              "          dataTable['output_type'] = 'display_data';\n",
              "          await google.colab.output.renderOutput(dataTable, element);\n",
              "          const docLink = document.createElement('div');\n",
              "          docLink.innerHTML = docLinkHtml;\n",
              "          element.appendChild(docLink);\n",
              "        }\n",
              "      </script>\n",
              "    </div>\n",
              "  </div>\n",
              "  "
            ]
          },
          "metadata": {},
          "execution_count": 109
        }
      ]
    },
    {
      "cell_type": "code",
      "metadata": {
        "id": "GxQKpbEDdjDZ"
      },
      "source": [
        "correlation_matrix = df.corr().round(2)"
      ],
      "execution_count": 110,
      "outputs": []
    },
    {
      "cell_type": "code",
      "metadata": {
        "colab": {
          "base_uri": "https://localhost:8080/",
          "height": 530
        },
        "id": "oSQ4UHHbdjDa",
        "outputId": "924983c8-fa33-4028-92a6-3a7a7f583e93"
      },
      "source": [
        "plt.figure(figsize=(10, 7))\n",
        "sns.heatmap(data=correlation_matrix, annot=True)"
      ],
      "execution_count": 111,
      "outputs": [
        {
          "output_type": "execute_result",
          "data": {
            "text/plain": [
              "<matplotlib.axes._subplots.AxesSubplot at 0x7fb24486d750>"
            ]
          },
          "metadata": {},
          "execution_count": 111
        },
        {
          "output_type": "display_data",
          "data": {
            "text/plain": [
              "<Figure size 720x504 with 2 Axes>"
            ],
            "image/png": "[encoded data removed]"
          },
          "metadata": {
            "needs_background": "light"
          }
        }
      ]
    },
    {
      "cell_type": "code",
      "metadata": {
        "id": "zDyuNoQXdjDa"
      },
      "source": [
        "x = pd.DataFrame(np.c_[ df['PAXMTSDÿ'], df['PAXWWMDÿ'], df['age abon death'], df['Expectation of life'], df['age']],\n",
        "                 columns=['PAXMTSDÿ','PAXWWMDÿ','age abon death','Expectation of life','age'])"
      ],
      "execution_count": 112,
      "outputs": []
    },
    {
      "cell_type": "code",
      "metadata": {
        "id": "jLdSM-ggdjDb"
      },
      "source": [
        "y = df['actual life']"
      ],
      "execution_count": 113,
      "outputs": []
    },
    {
      "cell_type": "code",
      "metadata": {
        "id": "BiRFKWPKdjDb"
      },
      "source": [
        "from sklearn.model_selection import train_test_split"
      ],
      "execution_count": 114,
      "outputs": []
    },
    {
      "cell_type": "code",
      "metadata": {
        "id": "qFxjxi96djDb"
      },
      "source": [
        "x_train, x_test, y_train, y_test = train_test_split(x, y, test_size=0.2)"
      ],
      "execution_count": 115,
      "outputs": []
    },
    {
      "cell_type": "code",
      "metadata": {
        "id": "kkVK6zxbdjDc"
      },
      "source": [
        "from sklearn.linear_model import LinearRegression"
      ],
      "execution_count": 116,
      "outputs": []
    },
    {
      "cell_type": "code",
      "metadata": {
        "id": "xpJXXPEsdjDc"
      },
      "source": [
        "model = LinearRegression()"
      ],
      "execution_count": 117,
      "outputs": []
    },
    {
      "cell_type": "code",
      "metadata": {
        "colab": {
          "base_uri": "https://localhost:8080/"
        },
        "id": "_d28WYY2djDc",
        "outputId": "a1440256-1ac7-41ac-b7f2-7b7f102e8054"
      },
      "source": [
        "model.fit(x_train, y_train)"
      ],
      "execution_count": 118,
      "outputs": [
        {
          "output_type": "execute_result",
          "data": {
            "text/plain": [
              "LinearRegression()"
            ]
          },
          "metadata": {},
          "execution_count": 118
        }
      ]
    },
    {
      "cell_type": "code",
      "metadata": {
        "id": "43ja704fdjDc"
      },
      "source": [
        "y_train_pred = model.predict(x_train)"
      ],
      "execution_count": 119,
      "outputs": []
    },
    {
      "cell_type": "code",
      "metadata": {
        "id": "FLSeNPycdjDc"
      },
      "source": [
        "from sklearn.metrics import mean_squared_error, r2_score"
      ],
      "execution_count": 120,
      "outputs": []
    },
    {
      "cell_type": "code",
      "metadata": {
        "colab": {
          "base_uri": "https://localhost:8080/"
        },
        "id": "zKLhEljndjDd",
        "outputId": "9bec01ee-553a-4eee-e8c7-62373e91442d"
      },
      "source": [
        "rmse = np.sqrt(mean_squared_error(y_train, y_train_pred))\n",
        "r2 = r2_score(y_train, y_train_pred)\n",
        "print(\"Perfromance for training set: \")\n",
        "print(\"rmse: \", rmse)\n",
        "print(\"r2: \", r2)"
      ],
      "execution_count": 121,
      "outputs": [
        {
          "output_type": "stream",
          "name": "stdout",
          "text": [
            "Perfromance for training set: \n",
            "rmse:  2.4674824454235192e-09\n",
            "r2:  1.0\n"
          ]
        }
      ]
    },
    {
      "cell_type": "code",
      "metadata": {
        "id": "anrOYdTwdjDd"
      },
      "source": [
        "y_test_pred = model.predict(x_test)"
      ],
      "execution_count": 122,
      "outputs": []
    },
    {
      "cell_type": "code",
      "metadata": {
        "colab": {
          "base_uri": "https://localhost:8080/"
        },
        "id": "Dd37K7PsdjDd",
        "outputId": "e189d425-7caa-45e8-b21f-d518d638b4c1"
      },
      "source": [
        "rmse = np.sqrt(mean_squared_error(y_test, y_test_pred))\n",
        "r2 = r2_score(y_test, y_test_pred)\n",
        "print(\"Perfromance for Testing set: \")\n",
        "print(\"rmse: \", rmse)\n",
        "print(\"r2: \", r2)"
      ],
      "execution_count": 123,
      "outputs": [
        {
          "output_type": "stream",
          "name": "stdout",
          "text": [
            "Perfromance for Testing set: \n",
            "rmse:  2.424678475932263e-09\n",
            "r2:  1.0\n"
          ]
        }
      ]
    },
    {
      "cell_type": "code",
      "metadata": {
        "colab": {
          "base_uri": "https://localhost:8080/"
        },
        "id": "h4r-tMc3tImP",
        "outputId": "ed597fd5-270a-423b-948b-851b76310a5a"
      },
      "source": [
        "print(model.coef_)"
      ],
      "execution_count": 124,
      "outputs": [
        {
          "output_type": "stream",
          "name": "stdout",
          "text": [
            "[ 2.20724484e-15  3.61888254e-14  1.00000000e+00 -5.56556343e-11\n",
            " -1.00000000e+00]\n"
          ]
        }
      ]
    }
  ]
}