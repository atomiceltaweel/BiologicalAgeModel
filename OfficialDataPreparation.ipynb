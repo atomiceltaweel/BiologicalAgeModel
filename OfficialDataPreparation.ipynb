{
  "nbformat": 4,
  "nbformat_minor": 0,
  "metadata": {
    "colab": {
      "name": "OfficialDataPreparation.ipynb",
      "provenance": [],
      "mount_file_id": "1Mlg4wPyXlnt2wxJpT71YY0vERsIVhcN2",
      "authorship_tag": "ABX9TyPyWdLCyyrKmdypZLj9tkkO",
      "include_colab_link": true
    },
    "kernelspec": {
      "name": "python3",
      "display_name": "Python 3"
    },
    "language_info": {
      "name": "python"
    }
  },
  "cells": [
    {
      "cell_type": "markdown",
      "metadata": {
        "id": "view-in-github",
        "colab_type": "text"
      },
      "source": [
        "<a href=\"https://colab.research.google.com/github/gbickenbach/BiologicalAgeModel/blob/main/OfficialDataPreparation.ipynb\" target=\"_parent\"><img src=\"https://colab.research.google.com/assets/colab-badge.svg\" alt=\"Open In Colab\"/></a>"
      ]
    },
    {
      "cell_type": "code",
      "metadata": {
        "id": "kwUKKCzpNeKc"
      },
      "source": [
        "import pandas as pd\n",
        "import numpy as np"
      ],
      "execution_count": null,
      "outputs": []
    },
    {
      "cell_type": "code",
      "metadata": {
        "id": "mHV30s4ANjfa"
      },
      "source": [
        "x = pd.read_csv(\"drive/MyDrive/Lab/Data Set/Complete MethylationB.csv\")\n",
        "y = pd.read_csv(\"drive/MyDrive/Lab/Data Set/Traits4.csv\")"
      ],
      "execution_count": null,
      "outputs": []
    },
    {
      "cell_type": "code",
      "metadata": {
        "id": "_i7t9z1IODrI"
      },
      "source": [
        "y = y.drop(columns= \"inaugural_barcode\")\n",
        "y = y.drop(columns= \"%Monocells\")\n",
        "y = y.drop(columns= \"%Neutcells\")\n",
        "y = y.drop(columns= \"weight\")"
      ],
      "execution_count": null,
      "outputs": []
    },
    {
      "cell_type": "code",
      "metadata": {
        "id": "C2qVRHUEU6br"
      },
      "source": [
        "a = x.loc[:,'sampleID']"
      ],
      "execution_count": null,
      "outputs": []
    },
    {
      "cell_type": "code",
      "metadata": {
        "id": "amOkiNY_U8o8"
      },
      "source": [
        "b = y.loc[:,'prosperID']"
      ],
      "execution_count": null,
      "outputs": []
    },
    {
      "cell_type": "code",
      "metadata": {
        "id": "CKc1FICfFnOi"
      },
      "source": [
        "ids = []"
      ],
      "execution_count": null,
      "outputs": []
    },
    {
      "cell_type": "code",
      "metadata": {
        "id": "ms2PGmjBVP0p"
      },
      "source": [
        "for row in a:\n",
        "  if row not in b.values :\n",
        "    print(row)\n",
        "    ids.append(row)"
      ],
      "execution_count": null,
      "outputs": []
    },
    {
      "cell_type": "code",
      "metadata": {
        "id": "ebNjfXW9Fr1J"
      },
      "source": [
        "ids"
      ],
      "execution_count": null,
      "outputs": []
    },
    {
      "cell_type": "code",
      "metadata": {
        "id": "ncoEtbZNEfz6"
      },
      "source": [
        "xnew = x.set_index(\"sampleID\")\n",
        "xnew = xnew.drop(ids)"
      ],
      "execution_count": null,
      "outputs": []
    },
    {
      "cell_type": "code",
      "metadata": {
        "id": "tF916PIPGQ6X"
      },
      "source": [
        "xnew = xnew.sort_values(by='sampleID')\n",
        "y = y.sort_values(by='prosperID')"
      ],
      "execution_count": null,
      "outputs": []
    },
    {
      "cell_type": "code",
      "metadata": {
        "id": "6mFAJEwnGUzg"
      },
      "source": [
        "y = y.drop(columns= \"prosperID\")"
      ],
      "execution_count": null,
      "outputs": []
    },
    {
      "cell_type": "code",
      "metadata": {
        "id": "oUQWP-EGI3xN"
      },
      "source": [
        "from sklearn.impute import KNNImputer\n",
        "knn = KNNImputer()\n",
        "knn.fit(y)"
      ],
      "execution_count": null,
      "outputs": []
    },
    {
      "cell_type": "code",
      "metadata": {
        "id": "Bn1t6dTVJIOk"
      },
      "source": [
        "y = knn.transform(y)\n",
        "y = pd.DataFrame(y)"
      ],
      "execution_count": null,
      "outputs": []
    },
    {
      "cell_type": "code",
      "metadata": {
        "id": "KqlIyo6eJJMI"
      },
      "source": [
        "xnew.to_csv(\"drive/MyDrive/Lab/Final Attempt/OfficialLargeMethylation.csv\")\n",
        "y.to_csv(\"drive/MyDrive/Lab/Final Attempt/OfficialMetadata.csv\")"
      ],
      "execution_count": null,
      "outputs": []
    }
  ]
}