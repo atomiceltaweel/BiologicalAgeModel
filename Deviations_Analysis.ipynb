{
  "nbformat": 4,
  "nbformat_minor": 0,
  "metadata": {
    "colab": {
      "name": " Deviations Analysis ",
      "provenance": [],
      "mount_file_id": "1X01Il4KmC_PyFzGr2N_g1u3H7vtq6Mqg",
      "authorship_tag": "ABX9TyOi93acT+Bo0N51xQ0uB7Sq",
      "include_colab_link": true
    },
    "kernelspec": {
      "name": "python3",
      "display_name": "Python 3"
    },
    "language_info": {
      "name": "python"
    }
  },
  "cells": [
    {
      "cell_type": "markdown",
      "metadata": {
        "id": "view-in-github",
        "colab_type": "text"
      },
      "source": [
        "<a href=\"https://colab.research.google.com/github/gbickenbach/BiologicalAgeModel/blob/main/Deviations_Analysis.ipynb\" target=\"_parent\"><img src=\"https://colab.research.google.com/assets/colab-badge.svg\" alt=\"Open In Colab\"/></a>"
      ]
    },
    {
      "cell_type": "code",
      "metadata": {
        "id": "rHpZKPyf4uuA"
      },
      "source": [
        "import pandas as pd\n",
        "import numpy as np\n",
        "import matplotlib.pyplot as plt\n",
        "import seaborn as sns\n",
        "import scipy"
      ],
      "execution_count": null,
      "outputs": []
    },
    {
      "cell_type": "code",
      "metadata": {
        "id": "ORvVASI29wMt"
      },
      "source": [
        "#predicted = pd.read_csv(\"drive/MyDrive/Lab/Final Attempt/Results/Biological Age/Predicted.csv\")\n",
        "#actualb = pd.read_csv(\"drive/MyDrive/Lab/Final Attempt/Results/Biological Age/Actual.csv\")\n",
        "actual = pd.read_csv(\"drive/MyDrive/Lab/Model and Analysis/Data/OfficialMetadata.csv\")\n",
        "#pactual = pd.read_csv(\"drive/MyDrive/Lab/Final Attempt/Results/Actual Age/Real Age/Predicted.csv\")\n",
        "#bmiage = pd.read_csv(\"drive/MyDrive/Lab/Model and Analysis/Data/bmiage.csv\")"
      ],
      "execution_count": null,
      "outputs": []
    },
    {
      "cell_type": "code",
      "metadata": {
        "id": "XIYFhVRB8kjg"
      },
      "source": [
        "#bmip = pd.read_csv(\"drive/MyDrive/Lab/Model and Analysis/Results/Biological Age/bmiage.csv\")"
      ],
      "execution_count": null,
      "outputs": []
    },
    {
      "cell_type": "code",
      "metadata": {
        "id": "gJ7syvr39jiq"
      },
      "source": [
        "#smokeact = pd.read_csv(\"drive/MyDrive/Lab/Model and Analysis/Data/smokeage.csv\")\n",
        "#smokepred = pd.read_csv(\"drive/MyDrive/Lab/Model and Analysis/Results/smokeage.csv\")"
      ],
      "execution_count": null,
      "outputs": []
    },
    {
      "cell_type": "code",
      "metadata": {
        "id": "Z5WPUruRZbp4"
      },
      "source": [
        "happyact = pd.read_csv(\"drive/MyDrive/Lab/Model and Analysis/Data/happyage.csv\")\n",
        "happypred = pd.read_csv(\"drive/MyDrive/Lab/Model and Analysis/Results/happyage.csv\")"
      ],
      "execution_count": null,
      "outputs": []
    },
    {
      "cell_type": "code",
      "metadata": {
        "id": "zkW3qya4ZsfP"
      },
      "source": [
        "happypred = happypred.drop(columns = 'Unnamed: 0')"
      ],
      "execution_count": null,
      "outputs": []
    },
    {
      "cell_type": "code",
      "metadata": {
        "id": "rHXUIhNn-Tyb"
      },
      "source": [
        "#smokepred = smokepred.drop(columns = 'Unnamed: 0')"
      ],
      "execution_count": null,
      "outputs": []
    },
    {
      "cell_type": "code",
      "metadata": {
        "id": "WF2YqCuP8ls3"
      },
      "source": [
        "#bmip = bmip.drop(columns= \"Unnamed: 0\")"
      ],
      "execution_count": null,
      "outputs": []
    },
    {
      "cell_type": "code",
      "metadata": {
        "id": "bhitsuvl_WUK"
      },
      "source": [
        "predicted = predicted.drop(columns= \"Unnamed: 0\")"
      ],
      "execution_count": null,
      "outputs": []
    },
    {
      "cell_type": "code",
      "metadata": {
        "id": "aKGqCHlF7smQ"
      },
      "source": [
        "actual = pd.DataFrame(actual.iloc[:,4])"
      ],
      "execution_count": null,
      "outputs": []
    },
    {
      "cell_type": "code",
      "metadata": {
        "id": "Xm4PaDAa7QnB"
      },
      "source": [
        "actualb = actualb.drop(columns= \"Unnamed: 0\")"
      ],
      "execution_count": null,
      "outputs": []
    },
    {
      "cell_type": "code",
      "metadata": {
        "id": "0PtHYYiHUAEf"
      },
      "source": [
        "pactual = pactual.drop(columns= \"Unnamed: 0\")"
      ],
      "execution_count": null,
      "outputs": []
    },
    {
      "cell_type": "code",
      "metadata": {
        "id": "MXvQbLz-DvhR"
      },
      "source": [
        "bmiage"
      ],
      "execution_count": null,
      "outputs": []
    },
    {
      "cell_type": "code",
      "metadata": {
        "id": "x8iZvv4X8RFM"
      },
      "source": [
        "actualb"
      ],
      "execution_count": null,
      "outputs": []
    },
    {
      "cell_type": "code",
      "metadata": {
        "id": "-pBgmjRm7fM-"
      },
      "source": [
        "predicted"
      ],
      "execution_count": null,
      "outputs": []
    },
    {
      "cell_type": "code",
      "metadata": {
        "id": "2TrtnFd38Bdm"
      },
      "source": [
        "actual"
      ],
      "execution_count": null,
      "outputs": []
    },
    {
      "cell_type": "code",
      "metadata": {
        "id": "Z-_1R5a__Q3p"
      },
      "source": [
        "dif = happypred.iloc[:,0] - actual.iloc[:,0]"
      ],
      "execution_count": null,
      "outputs": []
    },
    {
      "cell_type": "code",
      "metadata": {
        "id": "tXppveZHBi7T"
      },
      "source": [
        "metadata = pd.read_csv(\"drive/MyDrive/Lab/Model and Analysis/Data/OfficialMetadata.csv\")"
      ],
      "execution_count": null,
      "outputs": []
    },
    {
      "cell_type": "code",
      "metadata": {
        "id": "4NzRLzeWBywP"
      },
      "source": [
        "metadata = metadata.drop(columns= \"Unnamed: 0\")"
      ],
      "execution_count": null,
      "outputs": []
    },
    {
      "cell_type": "code",
      "metadata": {
        "id": "ytNwoON9Ce01"
      },
      "source": [
        "metadata"
      ],
      "execution_count": null,
      "outputs": []
    },
    {
      "cell_type": "code",
      "metadata": {
        "id": "ZDZKCWOfBvMe"
      },
      "source": [
        "happiness = metadata.iloc[:,1]\n",
        "activity = metadata.iloc[:,2]\n",
        "smoke = metadata.iloc[:,4]\n",
        "bmi = metadata.iloc[:,5]\n",
        "sleep = metadata.iloc[:,6]\n",
        "alcohol = metadata.iloc[:,7]"
      ],
      "execution_count": null,
      "outputs": []
    },
    {
      "cell_type": "code",
      "metadata": {
        "id": "sN0Ge6bYIOgz"
      },
      "source": [
        "dif"
      ],
      "execution_count": null,
      "outputs": []
    },
    {
      "cell_type": "code",
      "metadata": {
        "id": "qKSIbx35U1pY"
      },
      "source": [
        "pactual"
      ],
      "execution_count": null,
      "outputs": []
    },
    {
      "cell_type": "code",
      "metadata": {
        "id": "gEK0Lqx8IeuW",
        "colab": {
          "base_uri": "https://localhost:8080/",
          "height": 405
        },
        "outputId": "afe74ac8-6a3c-4ac8-d7b0-dbda4704f208"
      },
      "source": [
        "plt.figure(figsize=(8,6))\n",
        "plt.scatter(dif, happiness)\n",
        "plt.xlabel(\"Deviation\")\n",
        "plt.ylabel(\"BMI\")"
      ],
      "execution_count": null,
      "outputs": [
        {
          "output_type": "execute_result",
          "data": {
            "text/plain": [
              "Text(0, 0.5, 'BMI')"
            ]
          },
          "metadata": {
            "tags": []
          },
          "execution_count": 15
        },
        {
          "output_type": "display_data",
          "data": {
            "image/png": "[encoded data removed]",
            "text/plain": [
              "<Figure size 576x432 with 1 Axes>"
            ]
          },
          "metadata": {
            "tags": [],
            "needs_background": "light"
          }
        }
      ]
    },
    {
      "cell_type": "code",
      "metadata": {
        "id": "JyFUNAHyRYai",
        "colab": {
          "base_uri": "https://localhost:8080/",
          "height": 296
        },
        "outputId": "ade7b9d8-a1e5-46ca-f7ea-90dac6b8f092"
      },
      "source": [
        "bp = sns.boxplot(x = smoke, y = dif)\n",
        "bp.set_xlabel(\"Smoke Index\")\n",
        "bp.set_ylabel(\"Difference\")"
      ],
      "execution_count": null,
      "outputs": [
        {
          "output_type": "execute_result",
          "data": {
            "text/plain": [
              "Text(0, 0.5, 'Difference')"
            ]
          },
          "metadata": {
            "tags": []
          },
          "execution_count": 21
        },
        {
          "output_type": "display_data",
          "data": {
            "image/png": "[encoded data removed]",
            "text/plain": [
              "<Figure size 432x288 with 1 Axes>"
            ]
          },
          "metadata": {
            "tags": [],
            "needs_background": "light"
          }
        }
      ]
    },
    {
      "cell_type": "code",
      "metadata": {
        "colab": {
          "base_uri": "https://localhost:8080/"
        },
        "id": "Fq-L404nB-vn",
        "outputId": "86c30bb7-8e0a-4b7b-966d-9eb1e4a02fcf"
      },
      "source": [
        "cc1 = np.corrcoef(dif,activity)\n",
        "cc1[0,1]"
      ],
      "execution_count": null,
      "outputs": [
        {
          "output_type": "execute_result",
          "data": {
            "text/plain": [
              "-0.0034610721009618955"
            ]
          },
          "metadata": {
            "tags": []
          },
          "execution_count": 31
        }
      ]
    },
    {
      "cell_type": "code",
      "metadata": {
        "colab": {
          "base_uri": "https://localhost:8080/"
        },
        "id": "0wPkeH-MCqov",
        "outputId": "22d1c2d1-7871-48aa-ab94-0c75ca7b5772"
      },
      "source": [
        "cc2 = np.corrcoef(dif,alcohol)\n",
        "cc2[0,1]"
      ],
      "execution_count": null,
      "outputs": [
        {
          "output_type": "execute_result",
          "data": {
            "text/plain": [
              "-0.1475146899094004"
            ]
          },
          "metadata": {
            "tags": []
          },
          "execution_count": 32
        }
      ]
    },
    {
      "cell_type": "code",
      "metadata": {
        "colab": {
          "base_uri": "https://localhost:8080/"
        },
        "id": "6cqnafVMDL2g",
        "outputId": "e843d3a0-060e-4125-c36e-e8348eef04c1"
      },
      "source": [
        "cc3 = np.corrcoef(dif,sleep)\n",
        "cc3[0,1]"
      ],
      "execution_count": null,
      "outputs": [
        {
          "output_type": "execute_result",
          "data": {
            "text/plain": [
              "-0.13800420770698002"
            ]
          },
          "metadata": {
            "tags": []
          },
          "execution_count": 33
        }
      ]
    },
    {
      "cell_type": "code",
      "metadata": {
        "colab": {
          "base_uri": "https://localhost:8080/"
        },
        "id": "YF5H0N3nDnKn",
        "outputId": "320d1e42-442e-4687-aa11-7e02bf9f58b0"
      },
      "source": [
        "cc4 = np.corrcoef(dif,happiness)\n",
        "cc4[0,1]"
      ],
      "execution_count": null,
      "outputs": [
        {
          "output_type": "execute_result",
          "data": {
            "text/plain": [
              "-0.7222947951794154"
            ]
          },
          "metadata": {
            "tags": []
          },
          "execution_count": 16
        }
      ]
    },
    {
      "cell_type": "code",
      "metadata": {
        "colab": {
          "base_uri": "https://localhost:8080/"
        },
        "id": "hiuUdsdDDvnF",
        "outputId": "9fd27a2f-2b26-47b2-e7ee-2f1ca729cc15"
      },
      "source": [
        "cc5 = np.corrcoef(dif,bmi)\n",
        "cc5[0,1]"
      ],
      "execution_count": null,
      "outputs": [
        {
          "output_type": "execute_result",
          "data": {
            "text/plain": [
              "0.861867856785078"
            ]
          },
          "metadata": {
            "tags": []
          },
          "execution_count": 28
        }
      ]
    },
    {
      "cell_type": "code",
      "metadata": {
        "colab": {
          "base_uri": "https://localhost:8080/"
        },
        "id": "CqtXKS06Zw6d",
        "outputId": "c0ceaa6d-c7e0-4c87-fddb-3e5d829635ea"
      },
      "source": [
        "cc6 = np.corrcoef(dif,sleep)\n",
        "cc6[0,1]"
      ],
      "execution_count": null,
      "outputs": [
        {
          "output_type": "execute_result",
          "data": {
            "text/plain": [
              "-0.13800420770698002"
            ]
          },
          "metadata": {
            "tags": []
          },
          "execution_count": 36
        }
      ]
    },
    {
      "cell_type": "code",
      "metadata": {
        "colab": {
          "base_uri": "https://localhost:8080/"
        },
        "id": "92MFHHKnbqWd",
        "outputId": "61d583a0-d1fd-449d-be2b-92e9e052b068"
      },
      "source": [
        "smokecc = scipy.stats.pointbiserialr(smoke, dif)\n",
        "smokecc"
      ],
      "execution_count": null,
      "outputs": [
        {
          "output_type": "execute_result",
          "data": {
            "text/plain": [
              "PointbiserialrResult(correlation=-0.11887238005368299, pvalue=0.2999300792203051)"
            ]
          },
          "metadata": {
            "tags": []
          },
          "execution_count": 24
        }
      ]
    }
  ]
}