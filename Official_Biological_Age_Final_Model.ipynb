{
  "nbformat": 4,
  "nbformat_minor": 0,
  "metadata": {
    "colab": {
      "name": "Official Biological Age Final Model.ipynb",
      "provenance": [],
      "collapsed_sections": [],
      "include_colab_link": true
    },
    "kernelspec": {
      "display_name": "Python 3",
      "name": "python3"
    },
    "language_info": {
      "name": "python"
    }
  },
  "cells": [
    {
      "cell_type": "markdown",
      "metadata": {
        "id": "view-in-github",
        "colab_type": "text"
      },
      "source": [
        "<a href=\"https://colab.research.google.com/github/gbickenbach/BiologicalAgeModel/blob/main/Official_Biological_Age_Final_Model.ipynb\" target=\"_parent\"><img src=\"https://colab.research.google.com/assets/colab-badge.svg\" alt=\"Open In Colab\"/></a>"
      ]
    },
    {
      "cell_type": "code",
      "metadata": {
        "id": "bgKPrMXNShU-"
      },
      "source": [
        "\n",
        "from sklearn.model_selection import LeaveOneOut\n",
        "import pandas as pd\n",
        "from sklearn.metrics import accuracy_score\n",
        "from sklearn.linear_model import LassoCV\n",
        "from sklearn.model_selection import train_test_split\n",
        "import matplotlib.pyplot as plt\n",
        "import numpy as np"
      ],
      "execution_count": null,
      "outputs": []
    },
    {
      "cell_type": "code",
      "metadata": {
        "id": "95TXYEiNhyCp"
      },
      "source": [
        "y = pd.read_csv(\"drive/MyDrive/Lab/Final Attempt/Data/OfficialBiologicalAge.csv\")\n",
        "x = pd.read_csv(\"drive/MyDrive/Lab/Final Attempt/Data/OfficialLargeMethylation.csv\")"
      ],
      "execution_count": null,
      "outputs": []
    },
    {
      "cell_type": "code",
      "metadata": {
        "id": "IQazcEmAGIvA"
      },
      "source": [
        "x = x.drop(columns= \"sampleID\")"
      ],
      "execution_count": null,
      "outputs": []
    },
    {
      "cell_type": "code",
      "metadata": {
        "id": "UP08eHORGsF1"
      },
      "source": [
        "y"
      ],
      "execution_count": null,
      "outputs": []
    },
    {
      "cell_type": "code",
      "metadata": {
        "id": "_OoQPRJD6ejg"
      },
      "source": [
        "x"
      ],
      "execution_count": null,
      "outputs": []
    },
    {
      "cell_type": "code",
      "metadata": {
        "id": "DmGd78yxi_8i"
      },
      "source": [
        "cv = LeaveOneOut()"
      ],
      "execution_count": null,
      "outputs": []
    },
    {
      "cell_type": "code",
      "metadata": {
        "id": "upybTRp8JtS0"
      },
      "source": [
        "y_true = []\n",
        "y_pred = []"
      ],
      "execution_count": null,
      "outputs": []
    },
    {
      "cell_type": "code",
      "metadata": {
        "id": "HuQAAfd4oWx8"
      },
      "source": [
        "\n",
        "for train_ix, test_ix in cv.split(x):\n",
        "  X_train, X_test = x.iloc[train_ix, :], x.iloc[test_ix, :]\n",
        "  y_train, y_test = y.iloc[train_ix], y.iloc[test_ix]\n",
        "  lasso = LassoCV(cv=10, max_iter=4000)\n",
        "  lasso.fit(X_train, y_train.values.ravel())\n",
        "  yhat = lasso.predict(X_test)\n",
        "  y_true.append(y_test.iloc[0,0])\n",
        "  y_pred.append(yhat[0])\n"
      ],
      "execution_count": null,
      "outputs": []
    },
    {
      "cell_type": "code",
      "metadata": {
        "id": "bK1So8Venm7e",
        "colab": {
          "base_uri": "https://localhost:8080/",
          "height": 408
        },
        "outputId": "c931609b-d7f5-4869-c72c-4108bfabc5aa"
      },
      "source": [
        "plt.figure(figsize=(8,6))\n",
        "plt.scatter(y_true,y_pred)\n",
        "plt.xlabel(\"Actual Biological Age\")\n",
        "plt.ylabel(\"Predicted Biological Age\")"
      ],
      "execution_count": null,
      "outputs": [
        {
          "output_type": "execute_result",
          "data": {
            "text/plain": [
              "Text(0, 0.5, 'Predicted Biological Age')"
            ]
          },
          "metadata": {
            "tags": []
          },
          "execution_count": 10
        },
        {
          "output_type": "display_data",
          "data": {
            "image/png": "[encoded data removed]",
            "text/plain": [
              "<Figure size 576x432 with 1 Axes>"
            ]
          },
          "metadata": {
            "tags": [],
            "needs_background": "light"
          }
        }
      ]
    },
    {
      "cell_type": "code",
      "metadata": {
        "colab": {
          "base_uri": "https://localhost:8080/"
        },
        "id": "3W_y1QfxoaEA",
        "outputId": "56a00ca4-5bd5-4849-9050-1b96591fe2d0"
      },
      "source": [
        "cc = np.corrcoef(y_true,y_pred)\n",
        "cc[0,1]\n"
      ],
      "execution_count": null,
      "outputs": [
        {
          "output_type": "execute_result",
          "data": {
            "text/plain": [
              "0.867179959375238"
            ]
          },
          "metadata": {
            "tags": []
          },
          "execution_count": 11
        }
      ]
    },
    {
      "cell_type": "code",
      "metadata": {
        "id": "vzco1Pikj5Tt"
      },
      "source": [
        "y_pred = pd.DataFrame(y_pred)\n",
        "y_true = pd.DataFrame(y_true)"
      ],
      "execution_count": null,
      "outputs": []
    },
    {
      "cell_type": "code",
      "metadata": {
        "id": "o7SQ47m8imkL"
      },
      "source": [
        "y_pred.to_csv(\"drive/MyDrive/Lab/Final Attempt/Results/Biological Age/Predicted.csv\")\n",
        "y_true.to_csv(\"drive/MyDrive/Lab/Final Attempt/Results/Biological A/Actual.csv\")"
      ],
      "execution_count": null,
      "outputs": []
    }
  ]
}