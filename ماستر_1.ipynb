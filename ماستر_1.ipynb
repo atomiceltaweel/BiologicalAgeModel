{
  "nbformat": 4,
  "nbformat_minor": 0,
  "metadata": {
    "colab": {
      "provenance": [],
      "authorship_tag": "ABX9TyNjiEk9j9qTANALO4A/UvWo",
      "include_colab_link": true
    },
    "kernelspec": {
      "name": "python3",
      "display_name": "Python 3"
    },
    "language_info": {
      "name": "python"
    }
  },
  "cells": [
    {
      "cell_type": "markdown",
      "metadata": {
        "id": "view-in-github",
        "colab_type": "text"
      },
      "source": [
        "<a href=\"https://colab.research.google.com/github/atomiceltaweel/BiologicalAgeModel/blob/main/%D9%85%D8%A7%D8%B3%D8%AA%D8%B1_1.ipynb\" target=\"_parent\"><img src=\"https://colab.research.google.com/assets/colab-badge.svg\" alt=\"Open In Colab\"/></a>"
      ]
    },
    {
      "cell_type": "code",
      "execution_count": null,
      "metadata": {
        "colab": {
          "base_uri": "https://localhost:8080/",
          "height": 135
        },
        "id": "s73XCydMLDs9",
        "outputId": "4ed811a8-97cd-4538-9e04-b9c716029150"
      },
      "outputs": [
        {
          "output_type": "error",
          "ename": "SyntaxError",
          "evalue": "ignored",
          "traceback": [
            "\u001b[0;36m  File \u001b[0;32m\"<ipython-input-29-afcbaee71bc3>\"\u001b[0;36m, line \u001b[0;32m1\u001b[0m\n\u001b[0;31m    pip instal xport\u001b[0m\n\u001b[0m             ^\u001b[0m\n\u001b[0;31mSyntaxError\u001b[0m\u001b[0;31m:\u001b[0m invalid syntax\n"
          ]
        }
      ],
      "source": [
        "pip install xport\n",
        "\n"
      ]
    },
    {
      "cell_type": "code",
      "source": [
        "%pip install xport"
      ],
      "metadata": {
        "colab": {
          "base_uri": "https://localhost:8080/"
        },
        "id": "NnEyZgYyiUcp",
        "outputId": "b948cfc6-5d69-48ac-836f-a1a4623a968d"
      },
      "execution_count": null,
      "outputs": [
        {
          "output_type": "stream",
          "name": "stdout",
          "text": [
            "Looking in indexes: https://pypi.org/simple, https://us-python.pkg.dev/colab-wheels/public/simple/\n",
            "Collecting xport\n",
            "  Downloading xport-3.6.1-py2.py3-none-any.whl (29 kB)\n",
            "Requirement already satisfied: click>=7.1.1 in /usr/local/lib/python3.7/dist-packages (from xport) (7.1.2)\n",
            "Requirement already satisfied: pandas<1.4,>=1.3.5 in /usr/local/lib/python3.7/dist-packages (from xport) (1.3.5)\n",
            "Requirement already satisfied: pyyaml in /usr/local/lib/python3.7/dist-packages (from xport) (6.0)\n",
            "Requirement already satisfied: python-dateutil>=2.7.3 in /usr/local/lib/python3.7/dist-packages (from pandas<1.4,>=1.3.5->xport) (2.8.2)\n",
            "Requirement already satisfied: pytz>=2017.3 in /usr/local/lib/python3.7/dist-packages (from pandas<1.4,>=1.3.5->xport) (2022.2.1)\n",
            "Requirement already satisfied: numpy>=1.17.3 in /usr/local/lib/python3.7/dist-packages (from pandas<1.4,>=1.3.5->xport) (1.21.6)\n",
            "Requirement already satisfied: six>=1.5 in /usr/local/lib/python3.7/dist-packages (from python-dateutil>=2.7.3->pandas<1.4,>=1.3.5->xport) (1.15.0)\n",
            "Installing collected packages: xport\n",
            "Successfully installed xport-3.6.1\n"
          ]
        }
      ]
    },
    {
      "cell_type": "code",
      "source": [
        "import xport"
      ],
      "metadata": {
        "id": "boZsJFBROFxT"
      },
      "execution_count": 15,
      "outputs": []
    },
    {
      "cell_type": "code",
      "source": [
        "with open('/content/PAXDAY_G.XPT', 'rb') as f:\n",
        "  for row in xport.Reader(f):\n",
        "    print (row)"
      ],
      "metadata": {
        "colab": {
          "base_uri": "https://localhost:8080/",
          "height": 200
        },
        "id": "F47bjhQtLOgP",
        "outputId": "3c038b9d-368f-4796-e243-8d66ab5263f4"
      },
      "execution_count": 14,
      "outputs": [
        {
          "output_type": "error",
          "ename": "FileNotFoundError",
          "evalue": "ignored",
          "traceback": [
            "\u001b[0;31m---------------------------------------------------------------------------\u001b[0m",
            "\u001b[0;31mFileNotFoundError\u001b[0m                         Traceback (most recent call last)",
            "\u001b[0;32m<ipython-input-14-e43adf44a35e>\u001b[0m in \u001b[0;36m<module>\u001b[0;34m\u001b[0m\n\u001b[0;32m----> 1\u001b[0;31m \u001b[0;32mwith\u001b[0m \u001b[0mopen\u001b[0m\u001b[0;34m(\u001b[0m\u001b[0;34m'/content/PAXDAY_G.XPT'\u001b[0m\u001b[0;34m,\u001b[0m \u001b[0;34m'rb'\u001b[0m\u001b[0;34m)\u001b[0m \u001b[0;32mas\u001b[0m \u001b[0mf\u001b[0m\u001b[0;34m:\u001b[0m\u001b[0;34m\u001b[0m\u001b[0;34m\u001b[0m\u001b[0m\n\u001b[0m\u001b[1;32m      2\u001b[0m   \u001b[0;32mfor\u001b[0m \u001b[0mrow\u001b[0m \u001b[0;32min\u001b[0m \u001b[0mxport\u001b[0m\u001b[0;34m.\u001b[0m\u001b[0mReader\u001b[0m\u001b[0;34m(\u001b[0m\u001b[0mf\u001b[0m\u001b[0;34m)\u001b[0m\u001b[0;34m:\u001b[0m\u001b[0;34m\u001b[0m\u001b[0;34m\u001b[0m\u001b[0m\n\u001b[1;32m      3\u001b[0m     \u001b[0mprint\u001b[0m \u001b[0;34m(\u001b[0m\u001b[0mrow\u001b[0m\u001b[0;34m)\u001b[0m\u001b[0;34m\u001b[0m\u001b[0;34m\u001b[0m\u001b[0m\n",
            "\u001b[0;31mFileNotFoundError\u001b[0m: [Errno 2] No such file or directory: '/content/PAXDAY_G.XPT'"
          ]
        }
      ]
    },
    {
      "cell_type": "code",
      "source": [
        "with open('/content/DEMO_G.XPT', 'rb') as f:\n",
        "  for row in xport.Reader(f):\n",
        "    print (row)"
      ],
      "metadata": {
        "colab": {
          "base_uri": "https://localhost:8080/"
        },
        "id": "7iy13UCQlVWu",
        "outputId": "b5d322d4-f0eb-40c6-b615-6e75028dd463"
      },
      "execution_count": null,
      "outputs": []
    },
    {
      "cell_type": "code",
      "source": [
        "import xport, csv\n",
        "\n",
        "with open(r'/content/PAXDAY_H.XPT', 'rb') as xpt_file:\n",
        "    reader = xport.XportReader(xpt_file)\n",
        "    with open(r'class.csv', 'w', newline='') as out:\n",
        "        writer = csv.DictWriter(out, fieldnames=reader.fields)\n",
        "        for row in reader:\n",
        "            writer.writerow(row._asdict())"
      ],
      "metadata": {
        "id": "jqiph09Pt40m"
      },
      "execution_count": null,
      "outputs": []
    },
    {
      "cell_type": "code",
      "source": [
        "import csv\n",
        "\n",
        "with open(\"/content/NHANES_2003_2004_MORT_2019_PUBLIC.dat\") as infile, open(\"outfile.csv\", \"w\") as outfile:\n",
        "    csv_writer = csv.writer(outfile)\n",
        "    prev = ''\n",
        "    csv_writer.writerow(['ID', 'PARENT_ID'])\n",
        "    for line in infile.read().splitlines():\n",
        "        csv_writer.writerow([line, prev])\n",
        "        prev = line\n"
      ],
      "metadata": {
        "id": "a7V5Wi5MwJHK"
      },
      "execution_count": null,
      "outputs": []
    }
  ]
}